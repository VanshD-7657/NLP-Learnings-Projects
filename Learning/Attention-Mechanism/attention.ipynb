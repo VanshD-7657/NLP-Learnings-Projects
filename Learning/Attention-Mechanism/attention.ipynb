{
 "cells": [
  {
   "cell_type": "code",
   "execution_count": 1,
   "id": "64f433bf",
   "metadata": {},
   "outputs": [],
   "source": [
    "import torch\n",
    "inputs = torch.tensor(\n",
    "    [\n",
    "        [0.43,0.15,0.89], # Your\n",
    "        [0.55,0.87,0.66], # Journey\n",
    "        [0.57,0.85,0.64], # starts\n",
    "        [0.22,0.58,0.33], # with\n",
    "        [0.77,0.25,0.10], # one\n",
    "        [0.05,0.80,0.55]  # step\n",
    "    ]\n",
    ")"
   ]
  },
  {
   "cell_type": "code",
   "execution_count": 2,
   "id": "902018a0",
   "metadata": {},
   "outputs": [],
   "source": [
    "x_2 = inputs[1]\n",
    "d_in = inputs.shape[1]\n",
    "d_out = 2"
   ]
  },
  {
   "cell_type": "code",
   "execution_count": null,
   "id": "bdd3dc50",
   "metadata": {},
   "outputs": [],
   "source": [
    "torch.manual_seed(123)\n",
    "w_query = torch.nn.Parameter(torch.rand(d_in,d_out),requires_grad=False)\n",
    "w_key = torch.nn.Parameter(torch.rand(d_in,d_out),requires_grad=False)\n",
    "w_value = torch.nn.Parameter(torch.rand(d_in,d_out),requires_grad=False)f"
   ]
  },
  {
   "cell_type": "code",
   "execution_count": 4,
   "id": "1c68579c",
   "metadata": {},
   "outputs": [
    {
     "name": "stdout",
     "output_type": "stream",
     "text": [
      "Parameter containing:\n",
      "tensor([[0.2961, 0.5166],\n",
      "        [0.2517, 0.6886],\n",
      "        [0.0740, 0.8665]])\n"
     ]
    }
   ],
   "source": [
    "print(w_query)"
   ]
  },
  {
   "cell_type": "code",
   "execution_count": 5,
   "id": "9f976d7a",
   "metadata": {},
   "outputs": [
    {
     "name": "stdout",
     "output_type": "stream",
     "text": [
      "tensor([0.4306, 1.4551])\n"
     ]
    }
   ],
   "source": [
    "# Finding the query corresponds to x_2\n",
    "query_2 = x_2 @ w_query\n",
    "key_2 = x_2 @ w_key\n",
    "value_2 = x_2 @ w_value\n",
    "print(query_2)"
   ]
  },
  {
   "cell_type": "code",
   "execution_count": 7,
   "id": "646832d9",
   "metadata": {},
   "outputs": [
    {
     "data": {
      "text/plain": [
       "'keys_2 = keys[1]\\nattn_score_22 = query_2.dot(keys_2)\\nprint(attn_score_22)'"
      ]
     },
     "execution_count": 7,
     "metadata": {},
     "output_type": "execute_result"
    }
   ],
   "source": [
    "\"\"\"keys_2 = keys[1]\n",
    "attn_score_22 = query_2.dot(keys_2)\n",
    "print(attn_score_22)\"\"\""
   ]
  },
  {
   "cell_type": "code",
   "execution_count": 9,
   "id": "4906bdc3",
   "metadata": {},
   "outputs": [
    {
     "ename": "NameError",
     "evalue": "name 'keys' is not defined",
     "output_type": "error",
     "traceback": [
      "\u001b[1;31m---------------------------------------------------------------------------\u001b[0m",
      "\u001b[1;31mNameError\u001b[0m                                 Traceback (most recent call last)",
      "Cell \u001b[1;32mIn[9], line 1\u001b[0m\n\u001b[1;32m----> 1\u001b[0m attn_scores_2 \u001b[38;5;241m=\u001b[39m query_2 \u001b[38;5;241m@\u001b[39m \u001b[43mkeys\u001b[49m\u001b[38;5;241m.\u001b[39mT\n\u001b[0;32m      2\u001b[0m \u001b[38;5;28mprint\u001b[39m(attn_scores_2)\n",
      "\u001b[1;31mNameError\u001b[0m: name 'keys' is not defined"
     ]
    }
   ],
   "source": [
    "attn_scores_2 = query_2 @ keys.T\n",
    "print(attn_scores_2)"
   ]
  },
  {
   "cell_type": "code",
   "execution_count": null,
   "id": "1e44da6c",
   "metadata": {},
   "outputs": [],
   "source": []
  }
 ],
 "metadata": {
  "kernelspec": {
   "display_name": "ptorch",
   "language": "python",
   "name": "python3"
  },
  "language_info": {
   "codemirror_mode": {
    "name": "ipython",
    "version": 3
   },
   "file_extension": ".py",
   "mimetype": "text/x-python",
   "name": "python",
   "nbconvert_exporter": "python",
   "pygments_lexer": "ipython3",
   "version": "3.10.18"
  }
 },
 "nbformat": 4,
 "nbformat_minor": 5
}
