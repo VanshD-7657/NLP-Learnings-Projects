{
 "cells": [
  {
   "cell_type": "markdown",
   "id": "921e6338",
   "metadata": {},
   "source": [
    "# Tokenization on THE VERDICT BOOK"
   ]
  },
  {
   "cell_type": "code",
   "execution_count": 1,
   "id": "2f49180b",
   "metadata": {},
   "outputs": [
    {
     "name": "stdout",
     "output_type": "stream",
     "text": [
      "Total no. of character:  20479\n",
      "I HAD always thought Jack Gisburn rather a cheap genius--though a good fellow enough--so it was no \n"
     ]
    }
   ],
   "source": [
    "with open(\"the-verdict.txt\",\"r\", encoding=\"utf-8\") as f:\n",
    "    raw_text = f.read()\n",
    "print(\"Total no. of character: \", len(raw_text))\n",
    "print(raw_text[:99])"
   ]
  },
  {
   "cell_type": "code",
   "execution_count": 2,
   "id": "34e00f91",
   "metadata": {},
   "outputs": [
    {
     "name": "stderr",
     "output_type": "stream",
     "text": [
      "[nltk_data] Downloading package punkt to\n",
      "[nltk_data]     C:\\Users\\AMAN\\AppData\\Roaming\\nltk_data...\n",
      "[nltk_data]   Package punkt is already up-to-date!\n",
      "[nltk_data] Downloading package punkt_tab to\n",
      "[nltk_data]     C:\\Users\\AMAN\\AppData\\Roaming\\nltk_data...\n",
      "[nltk_data]   Package punkt_tab is already up-to-date!\n",
      "[nltk_data] Downloading package wordnet to\n",
      "[nltk_data]     C:\\Users\\AMAN\\AppData\\Roaming\\nltk_data...\n",
      "[nltk_data]   Package wordnet is already up-to-date!\n",
      "[nltk_data] Downloading package averaged_perceptron_tagger_eng to\n",
      "[nltk_data]     C:\\Users\\AMAN\\AppData\\Roaming\\nltk_data...\n",
      "[nltk_data]   Package averaged_perceptron_tagger_eng is already up-to-\n",
      "[nltk_data]       date!\n",
      "[nltk_data] Downloading package maxent_ne_chunker to\n",
      "[nltk_data]     C:\\Users\\AMAN\\AppData\\Roaming\\nltk_data...\n",
      "[nltk_data]   Package maxent_ne_chunker is already up-to-date!\n",
      "[nltk_data] Downloading package maxent_ne_chunker_tab to\n",
      "[nltk_data]     C:\\Users\\AMAN\\AppData\\Roaming\\nltk_data...\n",
      "[nltk_data]   Package maxent_ne_chunker_tab is already up-to-date!\n",
      "[nltk_data] Downloading package words to\n",
      "[nltk_data]     C:\\Users\\AMAN\\AppData\\Roaming\\nltk_data...\n",
      "[nltk_data]   Package words is already up-to-date!\n"
     ]
    }
   ],
   "source": [
    "import nltk\n",
    "import re\n",
    "# download both punkt and punkt_tab (needed in latest versions)\n",
    "nltk.download('punkt')\n",
    "nltk.download('punkt_tab')\n",
    "nltk.download('wordnet')\n",
    "# Download the required POS tagger model if not already present\n",
    "nltk.download('averaged_perceptron_tagger_eng')\n",
    "nltk.download('maxent_ne_chunker')\n",
    "nltk.download('maxent_ne_chunker_tab')\n",
    "nltk.download('words')\n",
    "from nltk.tokenize import word_tokenize, sent_tokenize\n"
   ]
  },
  {
   "cell_type": "code",
   "execution_count": 3,
   "id": "5286b6ed",
   "metadata": {},
   "outputs": [
    {
     "name": "stdout",
     "output_type": "stream",
     "text": [
      "235\n",
      "['I HAD always thought Jack Gisburn rather a cheap genius--though a good fellow enough--so it was no great surprise to me to hear that, in the height of his glory, he had dropped his painting, married a rich widow, and established himself in a villa on the Riviera.', '(Though I rather thought it would have been Rome or Florence.)', '\"The height of his glory\"--that was what the women called it.', 'I can hear Mrs. Gideon Thwing--his last Chicago sitter--deploring his unaccountable abdication.', '\"Of course it\\'s going to send the value of my picture \\'way up; but I don\\'t think of that, Mr. Rickham--the loss to Arrt is all I think of.\"', \"The word, on Mrs. Thwing's lips, multiplied its _rs_ as though they were reflected in an endless vista of mirrors.\", 'And it was not only the Mrs. Thwings who mourned.', 'Had not the exquisite Hermia Croft, at the last Grafton Gallery show, stopped me before Gisburn\\'s \"Moon-dancers\" to say, with tears in her eyes: \"We shall not look upon its like again\"?', \"Well!--even through the prism of Hermia's tears I felt able to face the fact with equanimity.\", 'Poor Jack Gisburn!', 'The women had made him--it was fitting that they should mourn him.', 'Among his own sex fewer regrets were heard, and in his own trade hardly a murmur.', 'Professional jealousy?', 'Perhaps.', 'If it were, the honour of the craft was vindicated by little Claude Nutley, who, in all good faith, brought out in the Burlington a very handsome \"obituary\" on Jack--one of those showy articles stocked with random technicalities that I have heard (I won\\'t say by whom) compared to Gisburn\\'s painting.', 'And so--his resolve being apparently irrevocable--the discussion gradually died out, and, as Mrs. Thwing had predicted, the price of \"Gisburns\" went up.', \"It was not till three years later that, in the course of a few weeks' idling on the Riviera, it suddenly occurred to me to wonder why Gisburn had given up his painting.\", 'On reflection, it really was a tempting problem.', 'To accuse his wife would have been too easy--his fair sitters had been denied the solace of saying that Mrs. Gisburn had \"dragged him down.\"', \"For Mrs. Gisburn--as such--had not existed till nearly a year after Jack's resolve had been taken.\", \"It might be that he had married her--since he liked his ease--because he didn't want to go on painting; but it would have been hard to prove that he had given up his painting because he had married her.\", 'Of course, if she had not dragged him down, she had equally, as Miss Croft contended, failed to \"lift him up\"--she had not led him back to the easel.', 'To put the brush into his hand again--what a vocation for a wife!', 'But Mrs. Gisburn appeared to have disdained it--and I felt it might be interesting to find out why.', \"The desultory life of the Riviera lends itself to such purely academic speculations; and having, on my way to Monte Carlo, caught a glimpse of Jack's balustraded terraces between the pines, I had myself borne thither the next day.\", \"I found the couple at tea beneath their palm-trees; and Mrs. Gisburn's welcome was so genial that, in the ensuing weeks, I claimed it frequently.\", 'It was not that my hostess was \"interesting\": on that point I could have given Miss Croft the fullest reassurance.', 'It was just because she was _not_ interesting--if I may be pardoned the bull--that I found her so.', 'For Jack, all his life, had been surrounded by interesting women: they had fostered his art, it had been reared in the hot-house of their adulation.', 'And it was therefore instructive to note what effect the \"deadening atmosphere of mediocrity\" (I quote Miss Croft) was having on him.', 'I have mentioned that Mrs. Gisburn was rich; and it was immediately perceptible that her husband was extracting from this circumstance a delicate but substantial satisfaction.', \"It is, as a rule, the people who scorn money who get most out of it; and Jack's elegant disdain of his wife's big balance enabled him, with an appearance of perfect good-breeding, to transmute it into objects of art and luxury.\", 'To the latter, I must add, he remained relatively indifferent; but he was buying Renaissance bronzes and eighteenth-century pictures with a discrimination that bespoke the amplest resources.', '\"Money\\'s only excuse is to put beauty into circulation,\" was one of the axioms he laid down across the Sevres and silver of an exquisitely appointed luncheon-table, when, on a later day, I had again run over from Monte Carlo; and Mrs. Gisburn, beaming on him, added for my enlightenment: \"Jack is so morbidly sensitive to every form of beauty.\"', 'Poor Jack!', 'It had always been his fate to have women say such things of him: the fact should be set down in extenuation.', 'What struck me now was that, for the first time, he resented the tone.', 'I had seen him, so often, basking under similar tributes--was it the conjugal note that robbed them of their savour?', 'No--for, oddly enough, it became apparent that he was fond of Mrs. Gisburn--fond enough not to see her absurdity.', 'It was his own absurdity he seemed to be wincing under--his own attitude as an object for garlands and incense.', '\"My dear, since I\\'ve chucked painting people don\\'t say that stuff about me--they say it about Victor Grindle,\" was his only protest, as he rose from the table and strolled out onto the sunlit terrace.', 'I glanced after him, struck by his last word.', 'Victor Grindle was, in fact, becoming the man of the moment--as Jack himself, one might put it, had been the man of the hour.', \"The younger artist was said to have formed himself at my friend's feet, and I wondered if a tinge of jealousy underlay the latter's mysterious abdication.\", 'But no--for it was not till after that event that the _rose Dubarry_ drawing-rooms had begun to display their \"Grindles.\"', 'I turned to Mrs. Gisburn, who had lingered to give a lump of sugar to her spaniel in the dining-room.', '\"Why _has_ he chucked painting?\"', 'I asked abruptly.', 'She raised her eyebrows with a hint of good-humoured surprise.', '\"Oh, he doesn\\'t _have_ to now, you know; and I want him to enjoy himself,\" she said quite simply.', 'I looked about the spacious white-panelled room, with its _famille-verte_ vases repeating the tones of the pale damask curtains, and its eighteenth-century pastels in delicate faded frames.', '\"Has he chucked his pictures too?', 'I haven\\'t seen a single one in the house.\"', \"A slight shade of constraint crossed Mrs. Gisburn's open countenance.\", '\"It\\'s his ridiculous modesty, you know.', 'He says they\\'re not fit to have about; he\\'s sent them all away except one--my portrait--and that I have to keep upstairs.\"', \"His ridiculous modesty--Jack's modesty about his pictures?\", 'My curiosity was growing like the bean-stalk.', 'I said persuasively to my hostess: \"I must really see your portrait, you know.\"', \"She glanced out almost timorously at the terrace where her husband, lounging in a hooded chair, had lit a cigar and drawn the Russian deerhound's head between his knees.\", '\"Well, come while he\\'s not looking,\" she said, with a laugh that tried to hide her nervousness; and I followed her between the marble Emperors of the hall, and up the wide stairs with terra-cotta nymphs poised among flowers at each landing.', 'In the dimmest corner of her boudoir, amid a profusion of delicate and distinguished objects, hung one of the familiar oval canvases, in the inevitable garlanded frame.', \"The mere outline of the frame called up all Gisburn's past!\", 'Mrs. Gisburn drew back the window-curtains, moved aside a _jardiniere_ full of pink azaleas, pushed an arm-chair away, and said: \"If you stand here you can just manage to see it.', 'I had it over the mantel-piece, but he wouldn\\'t let it stay.\"', \"Yes--I could just manage to see it--the first portrait of Jack's I had ever had to strain my eyes over!\", 'Usually they had the place of honour--say the central panel in a pale yellow or _rose Dubarry_ drawing-room, or a monumental easel placed so that it took the light through curtains of old Venetian point.', 'The more modest place became the picture better; yet, as my eyes grew accustomed to the half-light, all the characteristic qualities came out--all the hesitations disguised as audacities, the tricks of prestidigitation by which, with such consummate skill, he managed to divert attention from the real business of the picture to some pretty irrelevance of detail.', 'Mrs. Gisburn, presenting a neutral surface to work on--forming, as it were, so inevitably the background of her own picture--had lent herself in an unusual degree to the display of this false virtuosity.', 'The picture was one of Jack\\'s \"strongest,\" as his admirers would have put it--it represented, on his part, a swelling of muscles, a congesting of veins, a balancing, straddling and straining, that reminded one of the circus-clown\\'s ironic efforts to lift a feather.', 'It met, in short, at every point the demand of lovely woman to be painted \"strongly\" because she was tired of being painted \"sweetly\"--and yet not to lose an atom of the sweetness.', '\"It\\'s the last he painted, you know,\" Mrs. Gisburn said with pardonable pride.', '\"The last but one,\" she corrected herself--\"but the other doesn\\'t count, because he destroyed it.\"', '\"Destroyed it?\"', 'I was about to follow up this clue when I heard a footstep and saw Jack himself on the threshold.', 'As he stood there, his hands in the pockets of his velveteen coat, the thin brown waves of hair pushed back from his white forehead, his lean sunburnt cheeks furrowed by a smile that lifted the tips of a self-confident moustache, I felt to what a degree he had the same quality as his pictures--the quality of looking cleverer than he was.', 'His wife glanced at him deprecatingly, but his eyes travelled past her to the portrait.', '\"Mr. Rickham wanted to see it,\" she began, as if excusing herself.', 'He shrugged his shoulders, still smiling.', '\"Oh, Rickham found me out long ago,\" he said lightly; then, passing his arm through mine: \"Come and see the rest of the house.\"', \"He showed it to me with a kind of naive suburban pride: the bath-rooms, the speaking-tubes, the dress-closets, the trouser-presses--all the complex simplifications of the millionaire's domestic economy.\", 'And whenever my wonder paid the expected tribute he said, throwing out his chest a little: \"Yes, I really don\\'t see how people manage to live without that.\"', 'Well--it was just the end one might have foreseen for him.', 'Only he was, through it all and in spite of it all--as he had been through, and in spite of, his pictures--so handsome, so charming, so disarming, that one longed to cry out: \"Be dissatisfied with your leisure!\"', 'as once one had longed to say: \"Be dissatisfied with your work!\"', 'But, with the cry on my lips, my diagnosis suffered an unexpected check.', '\"This is my own lair,\" he said, leading me into a dark plain room at the end of the florid vista.', 'It was square and brown and leathery: no \"effects\"; no bric-a-brac, none of the air of posing for reproduction in a picture weekly--above all, no least sign of ever having been used as a studio.', \"The fact brought home to me the absolute finality of Jack's break with his old life.\", '\"Don\\'t you ever dabble with paint any more?\"', 'I asked, still looking about for a trace of such activity.', '\"Never,\" he said briefly.', '\"Or water-colour--or etching?\"', 'His confident eyes grew dim, and his cheeks paled a little under their handsome sunburn.', '\"Never think of it, my dear fellow--any more than if I\\'d never touched a brush.\"', 'And his tone told me in a flash that he never thought of anything else.', 'I moved away, instinctively embarrassed by my unexpected discovery; and as I turned, my eye fell on a small picture above the mantel-piece--the only object breaking the plain oak panelling of the room.', '\"Oh, by Jove!\"', 'I said.', 'It was a sketch of a donkey--an old tired donkey, standing in the rain under a wall.', '\"By Jove--a Stroud!\"', 'I cried.', 'He was silent; but I felt him close behind me, breathing a little quickly.', '\"What a wonder!', 'Made with a dozen lines--but on everlasting foundations.', 'You lucky chap, where did you get it?\"', 'He answered slowly: \"Mrs. Stroud gave it to me.\"', '\"Ah--I didn\\'t know you even knew the Strouds.', 'He was such an inflexible hermit.\"', '\"I didn\\'t--till after.', '.', '.', '.', 'She sent for me to paint him when he was dead.\"', '\"When he was dead?', 'You?\"', 'I must have let a little too much amazement escape through my surprise, for he answered with a deprecating laugh: \"Yes--she\\'s an awful simpleton, you know, Mrs. Stroud.', 'Her only idea was to have him done by a fashionable painter--ah, poor Stroud!', 'She thought it the surest way of proclaiming his greatness--of forcing it on a purblind public.', 'And at the moment I was _the_ fashionable painter.\"', '\"Ah, poor Stroud--as you say.', 'Was _that_ his history?\"', '\"That was his history.', 'She believed in him, gloried in him--or thought she did.', \"But she couldn't bear not to have all the drawing-rooms with her.\", \"She couldn't bear the fact that, on varnishing days, one could always get near enough to see his pictures.\", 'Poor woman!', \"She's just a fragment groping for other fragments.\", 'Stroud is the only whole I ever knew.\"', '\"You ever knew?', 'But you just said--\"\\n\\nGisburn had a curious smile in his eyes.', '\"Oh, I knew him, and he knew me--only it happened after he was dead.\"', 'I dropped my voice instinctively.', '\"When she sent for you?\"', '\"Yes--quite insensible to the irony.', 'She wanted him vindicated--and by me!\"', 'He laughed again, and threw back his head to look up at the sketch of the donkey.', '\"There were days when I couldn\\'t look at that thing--couldn\\'t face it.', \"But I forced myself to put it here; and now it's cured me--cured me.\", 'That\\'s the reason why I don\\'t dabble any more, my dear Rickham; or rather Stroud himself is the reason.\"', 'For the first time my idle curiosity about my companion turned into a serious desire to understand him better.', '\"I wish you\\'d tell me how it happened,\" I said.', 'He stood looking up at the sketch, and twirling between his fingers a cigarette he had forgotten to light.', 'Suddenly he turned toward me.', '\"I\\'d rather like to tell you--because I\\'ve always suspected you of loathing my work.\"', 'I made a deprecating gesture, which he negatived with a good-humoured shrug.', '\"Oh, I didn\\'t care a straw when I believed in myself--and now it\\'s an added tie between us!\"', 'He laughed slightly, without bitterness, and pushed one of the deep arm-chairs forward.', '\"There: make yourself comfortable--and here are the cigars you like.\"', 'He placed them at my elbow and continued to wander up and down the room, stopping now and then beneath the picture.', '\"How it happened?', \"I can tell you in five minutes--and it didn't take much longer to happen.\", '.', '.', '.', \"I can remember now how surprised and pleased I was when I got Mrs. Stroud's note.\", 'Of course, deep down, I had always _felt_ there was no one like him--only I had gone with the stream, echoed the usual platitudes about him, till I half got to think he was a failure, one of the kind that are left behind.', 'By Jove, and he _was_ left behind--because he had come to stay!', 'The rest of us had to let ourselves be swept along or go under, but he was high above the current--on everlasting foundations, as you say.', '\"Well, I went off to the house in my most egregious mood--rather moved, Lord forgive me, at the pathos of poor Stroud\\'s career of failure being crowned by the glory of my painting him!', 'Of course I meant to do the picture for nothing--I told Mrs. Stroud so when she began to stammer something about her poverty.', 'I remember getting off a prodigious phrase about the honour being _mine_--oh, I was princely, my dear Rickham!', 'I was posing to myself like one of my own sitters.', '\"Then I was taken up and left alone with him.', 'I had sent all my traps in advance, and I had only to set up the easel and get to work.', 'He had been dead only twenty-four hours, and he died suddenly, of heart disease, so that there had been no preliminary work of destruction--his face was clear and untouched.', 'I had met him once or twice, years before, and thought him insignificant and dingy.', 'Now I saw that he was superb.', '\"I was glad at first, with a merely aesthetic satisfaction: glad to have my hand on such a \\'subject.\\'', 'Then his strange life-likeness began to affect me queerly--as I blocked the head in I felt as if he were watching me do it.', 'The sensation was followed by the thought: if he _were_ watching me, what would he say to my way of working?', 'My strokes began to go a little wild--I felt nervous and uncertain.', '\"Once, when I looked up, I seemed to see a smile behind his close grayish beard--as if he had the secret, and were amusing himself by holding it back from me.', 'That exasperated me still more.', 'The secret?', 'Why, I had a secret worth twenty of his!', 'I dashed at the canvas furiously, and tried some of my bravura tricks.', 'But they failed me, they crumbled.', \"I saw that he wasn't watching the showy bits--I couldn't distract his attention; he just kept his eyes on the hard passages between.\", 'Those were the ones I had always shirked, or covered up with some lying paint.', 'And how he saw through my lies!', '\"I looked up again, and caught sight of that sketch of the donkey hanging on the wall near his bed.', 'His wife told me afterward it was the last thing he had done--just a note taken with a shaking hand, when he was down in Devonshire recovering from a previous heart attack.', 'Just a note!', 'But it tells his whole history.', 'There are years of patient scornful persistence in every line.', 'A man who had swum with the current could never have learned that mighty up-stream stroke.', '.', '.', '.', '\"I turned back to my work, and went on groping and muddling; then I looked at the donkey again.', 'I saw that, when Stroud laid in the first stroke, he knew just what the end would be.', 'He had possessed his subject, absorbed it, recreated it.', 'When had I done that with any of my things?', \"They hadn't been born of me--I had just adopted them.\", '.', '.', '.', '\"Hang it, Rickham, with that face watching me I couldn\\'t do another stroke.', \"The plain truth was, I didn't know where to put it--_I had never known_.\", 'Only, with my sitters and my public, a showy splash of colour covered up the fact--I just threw paint into their faces.', '.', '.', '.', 'Well, paint was the one medium those dead eyes could see through--see straight to the tottering foundations underneath.', \"Don't you know how, in talking a foreign language, even fluently, one says half the time not what one wants to but what one can?\", \"Well--that was the way I painted; and as he lay there and watched me, the thing they called my 'technique' collapsed like a house of cards.\", \"He didn't sneer, you understand, poor Stroud--he just lay there quietly watching, and on his lips, through the gray beard, I seemed to hear the question: 'Are you sure you know where you're coming out?'\", '\"If I could have painted that face, with that question on it, I should have done a great thing.', \"The next greatest thing was to see that I couldn't--and that grace was given me.\", \"But, oh, at that minute, Rickham, was there anything on earth I wouldn't have given to have Stroud alive before me, and to hear him say: 'It's not too late--I'll show you how'?\", '\"It _was_ too late--it would have been, even if he\\'d been alive.', 'I packed up my traps, and went down and told Mrs. Stroud.', \"Of course I didn't tell her _that_--it would have been Greek to her.\", \"I simply said I couldn't paint him, that I was too moved.\", \"She rather liked the idea--she's so romantic!\", 'It was that that made her give me the donkey.', \"But she was terribly upset at not getting the portrait--she did so want him 'done' by some one showy!\", \"At first I was afraid she wouldn't let me off--and at my wits' end I suggested Grindle.\", \"Yes, it was I who started Grindle: I told Mrs. Stroud he was the 'coming' man, and she told somebody else, and so it got to be true.\", '.', '.', '.', \"And he painted Stroud without wincing; and she hung the picture among her husband's things.\", '.', '.', '.\"', 'He flung himself down in the arm-chair near mine, laid back his head, and clasping his arms beneath it, looked up at the picture above the chimney-piece.', '\"I like to fancy that Stroud himself would have given it to me, if he\\'d been able to say what he thought that day.\"', 'And, in answer to a question I put half-mechanically--\"Begin again?\"', 'he flashed out.', '\"When the one thing that brings me anywhere near him is that I knew enough to leave off?\"', 'He stood up and laid his hand on my shoulder with a laugh.', '\"Only the irony of it is that I _am_ still painting--since Grindle\\'s doing it for me!', 'The Strouds stand alone, and happen once--but there\\'s no exterminating our kind of art.\"']\n"
     ]
    }
   ],
   "source": [
    "# Displaying the  NO. of sentences this file contain\n",
    "sent_tokens = sent_tokenize(raw_text)\n",
    "print(len(sent_tokens))\n",
    "print(sent_tokens)"
   ]
  },
  {
   "cell_type": "code",
   "execution_count": 4,
   "id": "e64b9106",
   "metadata": {},
   "outputs": [
    {
     "name": "stdout",
     "output_type": "stream",
     "text": [
      "4544\n",
      "['I', 'HAD', 'always', 'thought', 'Jack', 'Gisburn', 'rather', 'a', 'cheap', 'genius', '--', 'though', 'a', 'good', 'fellow', 'enough', '--', 'so', 'it', 'was', 'no', 'great', 'surprise', 'to', 'me']\n"
     ]
    }
   ],
   "source": [
    "# No. of words this  file contain\n",
    "word_tokens = word_tokenize(raw_text)\n",
    "print(len(word_tokens))\n",
    "print(word_tokens[:25])"
   ]
  },
  {
   "cell_type": "code",
   "execution_count": 5,
   "id": "fc303e5f",
   "metadata": {},
   "outputs": [
    {
     "name": "stdout",
     "output_type": "stream",
     "text": [
      "['Hi,', ' ', 'my', ' ', 'name', ' ', 'is', ' ', 'Vansh', ' ', 'Dhall.', ' ', 'This,', ' ', 'is', ' ', 'a', ' ', 'test', ' ', 'notebook']\n",
      "21\n"
     ]
    }
   ],
   "source": [
    "import re\n",
    "text = \"Hi, my name is Vansh Dhall. This, is a test notebook\"\n",
    "result = re.split(r'(\\s)',text)\n",
    "print(result)\n",
    "print(len(result))"
   ]
  },
  {
   "cell_type": "code",
   "execution_count": 6,
   "id": "fca8ab85",
   "metadata": {},
   "outputs": [
    {
     "name": "stdout",
     "output_type": "stream",
     "text": [
      "['Hi', ',', '', ' ', 'my', ' ', 'name', ' ', 'is', ' ', 'Vansh', ' ', 'Dhall', '.', '', ' ', 'This', ',', '', ' ', 'is', ' ', 'a', ' ', 'test', ' ', 'notebook']\n"
     ]
    }
   ],
   "source": [
    "# Splitting all including (, or .)\n",
    "result = re.split(r'([,.]|\\s)',text)\n",
    "print(result)"
   ]
  },
  {
   "cell_type": "code",
   "execution_count": 7,
   "id": "38b2ca82",
   "metadata": {},
   "outputs": [
    {
     "name": "stdout",
     "output_type": "stream",
     "text": [
      "['Hi', ',', 'my', 'name', 'is', 'Vansh', 'Dhall', '.', 'This', ',', 'is', 'a', 'test', 'notebook']\n"
     ]
    }
   ],
   "source": [
    "# Priniting tokens without whitespaces\n",
    "result = [item for item in result if item.strip()]\n",
    "print(result)"
   ]
  },
  {
   "cell_type": "markdown",
   "id": "391754eb",
   "metadata": {},
   "source": [
    "### Starting Tokenization on RAW_TEXT FILE"
   ]
  },
  {
   "cell_type": "code",
   "execution_count": 8,
   "id": "373f3b4a",
   "metadata": {},
   "outputs": [
    {
     "name": "stdout",
     "output_type": "stream",
     "text": [
      "['I', 'HAD', 'always', 'thought', 'Jack', 'Gisburn', 'rather', 'a', 'cheap', 'genius', '--', 'though', 'a', 'good', 'fellow', 'enough', '--', 'so', 'it', 'was', 'no', 'great', 'surprise', 'to', 'me']\n",
      "4690\n"
     ]
    }
   ],
   "source": [
    "# We have two different methods For tokenization \n",
    "# 1.BY WORD_TOKENIZE\n",
    "'''word_tokens = word_tokenize(raw_text)\n",
    "print(len(word_tokens))\n",
    "print(word_tokens[:25])'''\n",
    "\n",
    "# 2. By .split method\n",
    "preprocessed = re.split(r'([,.:;?_!\"()\\']|--|\\s)',raw_text)\n",
    "preprocessed = [item for item in preprocessed if item.strip()]\n",
    "print(preprocessed[:25])\n",
    "print(len(preprocessed))"
   ]
  },
  {
   "cell_type": "markdown",
   "id": "c366b2a0",
   "metadata": {},
   "source": [
    "## Creating Tokens ID's"
   ]
  },
  {
   "cell_type": "code",
   "execution_count": 9,
   "id": "0fc40ef5",
   "metadata": {},
   "outputs": [
    {
     "name": "stdout",
     "output_type": "stream",
     "text": [
      "1130\n"
     ]
    }
   ],
   "source": [
    "all_words = sorted(set(preprocessed))\n",
    "vocab_size = len(all_words)\n",
    "print(vocab_size)"
   ]
  },
  {
   "cell_type": "code",
   "execution_count": 10,
   "id": "6182e1ce",
   "metadata": {},
   "outputs": [],
   "source": [
    "# Creating our own Vocabulary\n",
    "vocab = {token: integer for integer, token in enumerate(all_words)}"
   ]
  },
  {
   "cell_type": "code",
   "execution_count": 11,
   "id": "2e55f543",
   "metadata": {},
   "outputs": [
    {
     "name": "stdout",
     "output_type": "stream",
     "text": [
      "('!', 0)\n",
      "('\"', 1)\n",
      "(\"'\", 2)\n",
      "('(', 3)\n",
      "(')', 4)\n",
      "(',', 5)\n",
      "('--', 6)\n",
      "('.', 7)\n",
      "(':', 8)\n",
      "(';', 9)\n",
      "('?', 10)\n",
      "('A', 11)\n",
      "('Ah', 12)\n",
      "('Among', 13)\n",
      "('And', 14)\n",
      "('Are', 15)\n",
      "('Arrt', 16)\n",
      "('As', 17)\n",
      "('At', 18)\n",
      "('Be', 19)\n",
      "('Begin', 20)\n",
      "('Burlington', 21)\n",
      "('But', 22)\n",
      "('By', 23)\n",
      "('Carlo', 24)\n",
      "('Chicago', 25)\n",
      "('Claude', 26)\n",
      "('Come', 27)\n",
      "('Croft', 28)\n",
      "('Destroyed', 29)\n",
      "('Devonshire', 30)\n",
      "('Don', 31)\n",
      "('Dubarry', 32)\n",
      "('Emperors', 33)\n",
      "('Florence', 34)\n",
      "('For', 35)\n",
      "('Gallery', 36)\n",
      "('Gideon', 37)\n",
      "('Gisburn', 38)\n",
      "('Gisburns', 39)\n",
      "('Grafton', 40)\n",
      "('Greek', 41)\n",
      "('Grindle', 42)\n",
      "('Grindles', 43)\n",
      "('HAD', 44)\n",
      "('Had', 45)\n",
      "('Hang', 46)\n",
      "('Has', 47)\n",
      "('He', 48)\n",
      "('Her', 49)\n",
      "('Hermia', 50)\n"
     ]
    }
   ],
   "source": [
    "for i, item in enumerate(vocab.items()):\n",
    "    print(item)\n",
    "    if i>=50:\n",
    "        break"
   ]
  },
  {
   "cell_type": "code",
   "execution_count": 12,
   "id": "3b1da2f8",
   "metadata": {},
   "outputs": [],
   "source": [
    "# Creating class for Encoder and Decoder\n",
    "class SimpleTokenizerV1:\n",
    "    def __init__(self,vocab):\n",
    "        self.str_to_int = vocab\n",
    "        self.int_to_str = {i:s for s,i in vocab.items()}\n",
    "\n",
    "    def encode(self,text):\n",
    "        preprocessed = re.split(r'([,.:;?_!\"()\\']|--|\\s)',text)\n",
    "        preprocessed = [item.strip() for item in preprocessed if item.strip()]\n",
    "        # Handle unknown tokens gracefully: skip tokens not in vocab\n",
    "        ids = [self.str_to_int[s] for s in preprocessed if s in self.str_to_int]\n",
    "        return ids\n",
    "    \n",
    "    def decode(self,ids):\n",
    "        text = \" \".join([self.int_to_str[i] for i in ids])\n",
    "        # Replacing spaces before the specified punctuations\n",
    "        text = re.sub(r'\\s+([,.?!\"()\\'])',r'\\1',text)\n",
    "        return text\n"
   ]
  },
  {
   "cell_type": "code",
   "execution_count": 13,
   "id": "80edea80",
   "metadata": {},
   "outputs": [
    {
     "name": "stdout",
     "output_type": "stream",
     "text": [
      "[1, 68, 319, 5, 895, 53, 2, 1062, 261, 748, 763, 359, 2, 970, 856, 987, 945, 118, 663, 6, 994, 856, 585, 118, 105, 42, 5, 1, 1077, 549, 731, 800, 5, 177, 533, 846, 477, 988, 971, 157, 940, 738, 732, 988, 956, 983, 7]\n"
     ]
    }
   ],
   "source": [
    "# Testing the class- Encoder and Decoder on the Sample Text\n",
    "tokenizer = SimpleTokenizerV1(vocab=vocab)\n",
    "text = \"\"\" \" My dear, since I've chucked painting people don't say that stuff about me--they say it about Victor Grindle,\"\n",
    " was his only protest, as he rose from the table and strolled out onto the sunlit terrace.\"\"\"\n",
    "ids = tokenizer.encode(text)\n",
    "print(ids)\n"
   ]
  },
  {
   "cell_type": "code",
   "execution_count": 14,
   "id": "5593096b",
   "metadata": {},
   "outputs": [
    {
     "data": {
      "text/plain": [
       "'\" My dear, since I\\' ve chucked painting people don\\' t say that stuff about me -- they say it about Victor Grindle,\" was his only protest, as he rose from the table and strolled out onto the sunlit terrace.'"
      ]
     },
     "execution_count": 14,
     "metadata": {},
     "output_type": "execute_result"
    }
   ],
   "source": [
    "tokenizer.decode(ids)"
   ]
  },
  {
   "cell_type": "markdown",
   "id": "480db448",
   "metadata": {},
   "source": [
    "## ADDING unknown and endoftext tokens"
   ]
  },
  {
   "cell_type": "code",
   "execution_count": 15,
   "id": "ac074833",
   "metadata": {},
   "outputs": [],
   "source": [
    "all_tokens = sorted(list(set(preprocessed)))\n",
    "all_tokens.extend(['<|endoftext|>','<|unknown|>'])\n",
    "vocab = {token: integer for integer, token in enumerate(all_tokens)}"
   ]
  },
  {
   "cell_type": "code",
   "execution_count": 16,
   "id": "aacc146c",
   "metadata": {},
   "outputs": [
    {
     "data": {
      "text/plain": [
       "1132"
      ]
     },
     "execution_count": 16,
     "metadata": {},
     "output_type": "execute_result"
    }
   ],
   "source": [
    "# Lenght of Vocabulary after adding two tokens\n",
    "len(vocab.items())"
   ]
  },
  {
   "cell_type": "code",
   "execution_count": 17,
   "id": "77c315d9",
   "metadata": {},
   "outputs": [
    {
     "name": "stdout",
     "output_type": "stream",
     "text": [
      "('younger', 1127)\n",
      "('your', 1128)\n",
      "('yourself', 1129)\n",
      "('<|endoftext|>', 1130)\n",
      "('<|unknown|>', 1131)\n"
     ]
    }
   ],
   "source": [
    "for i, item in enumerate(list(vocab.items())[-5:]):\n",
    "    print(item)"
   ]
  },
  {
   "cell_type": "code",
   "execution_count": 18,
   "id": "fc6150d6",
   "metadata": {},
   "outputs": [],
   "source": [
    "class SimpleTokenizerV2:\n",
    "    def __init__(self,vocab):\n",
    "        self.str_to_int = vocab\n",
    "        self.int_to_str = {i:s for s,i in vocab.items()}\n",
    "\n",
    "    def encode(self,text):\n",
    "        preprocessed = re.split(r'([,.:;?_!\"()\\']|--|\\s)',text)\n",
    "        preprocessed = [item.strip() for item in preprocessed if item.strip()]\n",
    "        preprocessed = [\n",
    "            item if item in self.str_to_int\n",
    "            else '<|unknown|>'\n",
    "            for item in preprocessed\n",
    "        ]\n",
    "        ids = [self.str_to_int[s] for s in preprocessed]\n",
    "        return ids\n",
    "    \n",
    "    def decode(self,ids):\n",
    "        text = \" \".join([self.int_to_str[i] for i in ids])\n",
    "        # Replacing spaces before the specified punctuations\n",
    "        text = re.sub(r'\\s+([,.?!\"()\\'])',r'\\1',text)\n",
    "        return text\n"
   ]
  },
  {
   "cell_type": "code",
   "execution_count": 19,
   "id": "2ec0aa92",
   "metadata": {},
   "outputs": [
    {
     "name": "stdout",
     "output_type": "stream",
     "text": [
      "Hello, do you like tea. <|endoftext|> In the sunlit terraces of the palace.\n"
     ]
    }
   ],
   "source": [
    "tokenizer2 = SimpleTokenizerV2(vocab=vocab)\n",
    "text1 = \"Hello, do you like tea.\"\n",
    "text2 = \"In the sunlit terraces of the palace.\"\n",
    "text3 = \" <|endoftext|> \".join((text1,text2))\n",
    "print(text3)"
   ]
  },
  {
   "cell_type": "code",
   "execution_count": 20,
   "id": "70b57601",
   "metadata": {},
   "outputs": [
    {
     "data": {
      "text/plain": [
       "[1131, 5, 355, 1126, 628, 975, 7, 1130, 55, 988, 956, 984, 722, 988, 1131, 7]"
      ]
     },
     "execution_count": 20,
     "metadata": {},
     "output_type": "execute_result"
    }
   ],
   "source": [
    "tokenizer2.encode(text3)"
   ]
  },
  {
   "cell_type": "code",
   "execution_count": 21,
   "id": "511b961c",
   "metadata": {},
   "outputs": [
    {
     "data": {
      "text/plain": [
       "'<|unknown|>, do you like tea. <|endoftext|> In the sunlit terraces of the <|unknown|>.'"
      ]
     },
     "execution_count": 21,
     "metadata": {},
     "output_type": "execute_result"
    }
   ],
   "source": [
    "tokenizer2.decode(tokenizer2.encode(text3))"
   ]
  },
  {
   "cell_type": "code",
   "execution_count": null,
   "id": "71272628",
   "metadata": {},
   "outputs": [],
   "source": []
  },
  {
   "cell_type": "markdown",
   "id": "6c89fa0c",
   "metadata": {},
   "source": [
    "# Tokenization USING TIKTOKEN Library"
   ]
  },
  {
   "cell_type": "code",
   "execution_count": 22,
   "id": "9950bde0",
   "metadata": {},
   "outputs": [
    {
     "name": "stdout",
     "output_type": "stream",
     "text": [
      "Requirement already satisfied: tiktoken in c:\\users\\aman\\miniconda3\\envs\\tfenv\\lib\\site-packages (0.11.0)\n",
      "Requirement already satisfied: regex>=2022.1.18 in c:\\users\\aman\\miniconda3\\envs\\tfenv\\lib\\site-packages (from tiktoken) (2025.9.18)\n",
      "Requirement already satisfied: requests>=2.26.0 in c:\\users\\aman\\miniconda3\\envs\\tfenv\\lib\\site-packages (from tiktoken) (2.32.4)\n",
      "Requirement already satisfied: charset_normalizer<4,>=2 in c:\\users\\aman\\miniconda3\\envs\\tfenv\\lib\\site-packages (from requests>=2.26.0->tiktoken) (3.4.2)\n",
      "Requirement already satisfied: idna<4,>=2.5 in c:\\users\\aman\\miniconda3\\envs\\tfenv\\lib\\site-packages (from requests>=2.26.0->tiktoken) (3.10)\n",
      "Requirement already satisfied: urllib3<3,>=1.21.1 in c:\\users\\aman\\miniconda3\\envs\\tfenv\\lib\\site-packages (from requests>=2.26.0->tiktoken) (2.5.0)\n",
      "Requirement already satisfied: certifi>=2017.4.17 in c:\\users\\aman\\miniconda3\\envs\\tfenv\\lib\\site-packages (from requests>=2.26.0->tiktoken) (2025.7.14)\n"
     ]
    }
   ],
   "source": [
    "! pip install tiktoken"
   ]
  },
  {
   "cell_type": "code",
   "execution_count": 23,
   "id": "46ef0e23",
   "metadata": {},
   "outputs": [
    {
     "name": "stdout",
     "output_type": "stream",
     "text": [
      "[15496, 11, 466, 345, 588, 8887, 30, 220, 50256, 554, 262, 4252, 18250, 8812, 2114, 286, 262, 20562, 13]\n"
     ]
    }
   ],
   "source": [
    "# Encoding and Decoding USING TIKTOKEN Library\n",
    "import tiktoken\n",
    "\n",
    "tokenizer = tiktoken.get_encoding(\"gpt2\")\n",
    "text = \"Hello, do you like tea? <|endoftext|> In the sunlit terraces of the palace.\"\n",
    "integers = tokenizer.encode(text,allowed_special={\"<|endoftext|>\"})\n",
    "print(integers)"
   ]
  },
  {
   "cell_type": "code",
   "execution_count": 24,
   "id": "cf98ceef",
   "metadata": {},
   "outputs": [
    {
     "name": "stdout",
     "output_type": "stream",
     "text": [
      "Hello, do you like tea? <|endoftext|> In the sunlit terraces of the palace.\n"
     ]
    }
   ],
   "source": [
    "# Decodingf\n",
    "strings = tokenizer.decode(integers)\n",
    "print(strings)"
   ]
  },
  {
   "cell_type": "markdown",
   "id": "19236637",
   "metadata": {},
   "source": [
    "# TRAINING OF PREDICTION OF NEXT WORD"
   ]
  },
  {
   "cell_type": "markdown",
   "id": "21adfcb1",
   "metadata": {},
   "source": [
    "## CREATING INPUT-TARGET PAIRS"
   ]
  },
  {
   "cell_type": "code",
   "execution_count": 25,
   "id": "c54a6a78",
   "metadata": {},
   "outputs": [
    {
     "name": "stdout",
     "output_type": "stream",
     "text": [
      "5145\n"
     ]
    }
   ],
   "source": [
    "with open(\"the-verdict.txt\",\"r\", encoding=\"utf-8\") as f:\n",
    "    raw_text = f.read()\n",
    "\n",
    "enc_text = tokenizer.encode(raw_text)\n",
    "# Printing the vocablary lenght of our raw_text\n",
    "print(len(enc_text))"
   ]
  },
  {
   "cell_type": "code",
   "execution_count": 26,
   "id": "3d387a98",
   "metadata": {},
   "outputs": [],
   "source": [
    "enc_sample = enc_text[50:]"
   ]
  },
  {
   "cell_type": "code",
   "execution_count": 27,
   "id": "e7ae8dc4",
   "metadata": {},
   "outputs": [
    {
     "name": "stdout",
     "output_type": "stream",
     "text": [
      "x: [290, 4920, 2241, 287]\n",
      "x: [4920, 2241, 287, 257]\n"
     ]
    }
   ],
   "source": [
    "context_size = 4\n",
    "x = enc_sample[:context_size]\n",
    "y = enc_sample[1:context_size+1]\n",
    "print(f\"x: {x}\")\n",
    "print(f\"x: {y}\")"
   ]
  },
  {
   "cell_type": "code",
   "execution_count": 28,
   "id": "a0ae3bb8",
   "metadata": {},
   "outputs": [
    {
     "name": "stdout",
     "output_type": "stream",
     "text": [
      "[290] -----> 4920\n",
      "[290, 4920] -----> 2241\n",
      "[290, 4920, 2241] -----> 287\n",
      "[290, 4920, 2241, 287] -----> 257\n"
     ]
    }
   ],
   "source": [
    "# Processing the inputs along with the target\n",
    "for i in range(1,context_size+1):\n",
    "    context = enc_sample[:i]\n",
    "    desired = enc_sample[i]\n",
    "    print(context, \"----->\",desired)"
   ]
  },
  {
   "cell_type": "markdown",
   "id": "c400a610",
   "metadata": {},
   "source": [
    "# Predicting next word using Dataset and DataLoader"
   ]
  },
  {
   "cell_type": "code",
   "execution_count": null,
   "id": "6cf00878",
   "metadata": {},
   "outputs": [],
   "source": [
    "# After running this cell, please restart the kernel before importing torch!\n",
    "from torch.utils.data import Dataset"
   ]
  },
  {
   "cell_type": "code",
   "execution_count": null,
   "id": "29619c2b",
   "metadata": {},
   "outputs": [],
   "source": [
    "class GPTDatasetV1(Dataset):\n",
    "    def __init__(self,txt,tokenizer,max_length,stride):\n",
    "        self.input_ids = []\n",
    "        self.target_ids = []\n",
    "\n",
    "        # Tokenize the entire text\n",
    "        token_ids = tokenizer.encode(txt,allowed_special={\"<|endoftext|>\"})\n",
    "\n",
    "        # Use a sliding window to chunk the book into overlapping sequences of max_length\n",
    "        for i in range(0,len(token_ids)-max_length,stride):\n",
    "            input_chunk = token_ids[i:i + max_length]\n",
    "            target_chunk = token_ids[i+1,i+max_length+1]\n",
    "            self.input_ids.append(torch.tensor(input_chunk))\n",
    "            self.target_ids.append(torch.tensor(target_chunk))\n",
    "\n",
    "    def __len__self(self):\n",
    "        return len(self.input_ids)\n",
    "    \n",
    "    def __getitem__(self, index):\n",
    "        return self.input_ids[index],self.target_ids[index]\n",
    "    \n",
    "        "
   ]
  },
  {
   "cell_type": "code",
   "execution_count": null,
   "id": "9814d88d",
   "metadata": {},
   "outputs": [],
   "source": [
    "def create_dataloaderV1(txt,batch_size=4,max_length=256,stride=128,shuffle=True,drop_last=True,num_workers=0):\n",
    "    # Intializing the tokenizer \n",
    "    tokenizer = tiktoken.get_encoding(\"gpt2\")\n",
    "\n",
    "    # Creating dataset\n",
    "    dataset = GPTDatasetV1(txt,tokenizer,max_length,stride)\n",
    "\n",
    "    # Create dataloader\n",
    "    dataloader = DataLoader(\n",
    "        dataset,\n",
    "        batch_sizev= batch_size,\n",
    "        shuffle = shuffle,\n",
    "        drop_last = drop_last,\n",
    "        num_workers = num_workers\n",
    "    )\n",
    "\n",
    "    return dataloader"
   ]
  },
  {
   "cell_type": "code",
   "execution_count": null,
   "id": "b2a8ca08",
   "metadata": {},
   "outputs": [],
   "source": [
    "import torch\n",
    "dataloader = create_dataloaderV1(raw_text,batch_size=1,max_length=4,stride=1,shuffle=False)\n",
    "data_iter = iter(dataloader)\n",
    "first_batch = next(data_iter)\n",
    "print(first_batch)"
   ]
  },
  {
   "cell_type": "code",
   "execution_count": null,
   "id": "b139da8f-ebb6-4223-a676-3f9279ce5035",
   "metadata": {},
   "outputs": [],
   "source": []
  },
  {
   "cell_type": "code",
   "execution_count": null,
   "id": "38fc6577-88f3-49ba-9e10-d05c63be90a5",
   "metadata": {},
   "outputs": [],
   "source": []
  },
  {
   "cell_type": "code",
   "execution_count": null,
   "id": "39ddad04-3c10-4776-a93d-74f5c3a9921b",
   "metadata": {},
   "outputs": [],
   "source": []
  }
 ],
 "metadata": {
  "kernelspec": {
   "display_name": "Python (tfenv)",
   "language": "python",
   "name": "tfenv"
  },
  "language_info": {
   "codemirror_mode": {
    "name": "ipython",
    "version": 3
   },
   "file_extension": ".py",
   "mimetype": "text/x-python",
   "name": "python",
   "nbconvert_exporter": "python",
   "pygments_lexer": "ipython3",
   "version": "3.10.18"
  }
 },
 "nbformat": 4,
 "nbformat_minor": 5
}
